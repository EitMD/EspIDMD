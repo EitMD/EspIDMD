{
 "cells": [
  {
   "cell_type": "markdown",
   "id": "2acd1b26",
   "metadata": {},
   "source": [
    "# **Datalet SHE HULK LOAN para el grupo de Actuarios de ACME Inc.**"
   ]
  },
  {
   "cell_type": "markdown",
   "id": "babc0904",
   "metadata": {},
   "source": [
    "## **Problema:**\n",
    "\n",
    "Trabajaremos en conjunto al analista de negocio de la financiera de **_ACME_**. **_ACME_** Busca implementar un software que les permita conocer si un cliente pagará su préstamo o no.\n",
    "\n",
    "Para ello, se empleará el histórico que se tiene de 2007 a 2011, el cual incluye el status de préstamo actual y la última información de pago.\n",
    "\n",
    "Para esto se empleará una arquitectura de Python 3.10 con las siguientes librerias:\n",
    "1. Pandas==1.4.4\n",
    "2. Numpy==1.18.5\n",
    "3. Imlearn\n",
    "4. Sklearn\n",
    "5. matplotlib\n",
    "6. Collections"
   ]
  },
  {
   "cell_type": "markdown",
   "id": "fc03eda7",
   "metadata": {},
   "source": [
    "### **Pasos a seguir:**"
   ]
  },
  {
   "cell_type": "markdown",
   "id": "3dc37c5d",
   "metadata": {},
   "source": [
    "Importamos las librerias que usaremos:"
   ]
  },
  {
   "cell_type": "code",
   "execution_count": 1,
   "id": "3efa9639",
   "metadata": {},
   "outputs": [],
   "source": [
    "import pandas as pd\n",
    "import numpy as np\n",
    "import matplotlib.pyplot as plt\n",
    "from sklearn import svm\n",
    "import sklearn.model_selection as model_selection\n",
    "from sklearn.metrics import accuracy_score\n",
    "from sklearn.metrics import f1_score\n",
    "from collections import Counter\n",
    "from imblearn.over_sampling import SMOTENC"
   ]
  },
  {
   "cell_type": "markdown",
   "id": "ea2fc325",
   "metadata": {},
   "source": [
    "Cargamos nuestros datasets.\n",
    "En este caso, se encuentran separados, por lo que tendremos que aplicar un join para poder unirlos.\n",
    "\\\n",
    "Procederemos a ver qué trae nuestros datasets con un .head().\n",
    "\\\n",
    "Dado que buscamos la información de los dos, usaremos un \"inner\"."
   ]
  },
  {
   "cell_type": "code",
   "execution_count": 2,
   "id": "a9c3a006",
   "metadata": {},
   "outputs": [],
   "source": [
    "loan1 = pd.read_csv('loans-part-1.csv')\n",
    "loan2 = pd.read_csv('loans-part-2.csv')"
   ]
  },
  {
   "cell_type": "code",
   "execution_count": 3,
   "id": "c8cd6ffb",
   "metadata": {},
   "outputs": [
    {
     "data": {
      "text/html": [
       "<div>\n",
       "<style scoped>\n",
       "    .dataframe tbody tr th:only-of-type {\n",
       "        vertical-align: middle;\n",
       "    }\n",
       "\n",
       "    .dataframe tbody tr th {\n",
       "        vertical-align: top;\n",
       "    }\n",
       "\n",
       "    .dataframe thead th {\n",
       "        text-align: right;\n",
       "    }\n",
       "</style>\n",
       "<table border=\"1\" class=\"dataframe\">\n",
       "  <thead>\n",
       "    <tr style=\"text-align: right;\">\n",
       "      <th></th>\n",
       "      <th>id</th>\n",
       "      <th>loan_status</th>\n",
       "      <th>loan_amount</th>\n",
       "      <th>funded_amount_by_investors</th>\n",
       "      <th>loan_term</th>\n",
       "      <th>interest_rate</th>\n",
       "      <th>installment</th>\n",
       "      <th>grade</th>\n",
       "      <th>sub_grade</th>\n",
       "      <th>verification_status</th>\n",
       "      <th>issued_on</th>\n",
       "      <th>purpose</th>\n",
       "      <th>dti</th>\n",
       "      <th>earliest_credit_line</th>\n",
       "      <th>inquiries_last_6_months</th>\n",
       "      <th>open_credit_lines</th>\n",
       "      <th>derogatory_public_records</th>\n",
       "      <th>revolving_line_utilization_rate</th>\n",
       "      <th>total_credit_lines</th>\n",
       "    </tr>\n",
       "  </thead>\n",
       "  <tbody>\n",
       "    <tr>\n",
       "      <th>0</th>\n",
       "      <td>1077501</td>\n",
       "      <td>fully paid</td>\n",
       "      <td>5000</td>\n",
       "      <td>4975.0</td>\n",
       "      <td>36</td>\n",
       "      <td>10.65</td>\n",
       "      <td>162.87</td>\n",
       "      <td>b</td>\n",
       "      <td>b2</td>\n",
       "      <td>verified</td>\n",
       "      <td>2011-12-01</td>\n",
       "      <td>credit_card</td>\n",
       "      <td>27.65</td>\n",
       "      <td>1985-01-01</td>\n",
       "      <td>1</td>\n",
       "      <td>3</td>\n",
       "      <td>0</td>\n",
       "      <td>83.7</td>\n",
       "      <td>9</td>\n",
       "    </tr>\n",
       "    <tr>\n",
       "      <th>1</th>\n",
       "      <td>1077430</td>\n",
       "      <td>charged off</td>\n",
       "      <td>2500</td>\n",
       "      <td>2500.0</td>\n",
       "      <td>60</td>\n",
       "      <td>15.27</td>\n",
       "      <td>59.83</td>\n",
       "      <td>c</td>\n",
       "      <td>c4</td>\n",
       "      <td>source verified</td>\n",
       "      <td>2011-12-01</td>\n",
       "      <td>car</td>\n",
       "      <td>1.00</td>\n",
       "      <td>1999-04-01</td>\n",
       "      <td>5</td>\n",
       "      <td>3</td>\n",
       "      <td>0</td>\n",
       "      <td>9.4</td>\n",
       "      <td>4</td>\n",
       "    </tr>\n",
       "  </tbody>\n",
       "</table>\n",
       "</div>"
      ],
      "text/plain": [
       "        id  loan_status  loan_amount  funded_amount_by_investors  loan_term  \\\n",
       "0  1077501   fully paid         5000                      4975.0         36   \n",
       "1  1077430  charged off         2500                      2500.0         60   \n",
       "\n",
       "   interest_rate  installment grade sub_grade verification_status   issued_on  \\\n",
       "0          10.65       162.87     b        b2            verified  2011-12-01   \n",
       "1          15.27        59.83     c        c4     source verified  2011-12-01   \n",
       "\n",
       "       purpose    dti earliest_credit_line  inquiries_last_6_months  \\\n",
       "0  credit_card  27.65           1985-01-01                        1   \n",
       "1          car   1.00           1999-04-01                        5   \n",
       "\n",
       "   open_credit_lines  derogatory_public_records  \\\n",
       "0                  3                          0   \n",
       "1                  3                          0   \n",
       "\n",
       "   revolving_line_utilization_rate  total_credit_lines  \n",
       "0                             83.7                   9  \n",
       "1                              9.4                   4  "
      ]
     },
     "execution_count": 3,
     "metadata": {},
     "output_type": "execute_result"
    }
   ],
   "source": [
    "loan1.head(2)"
   ]
  },
  {
   "cell_type": "code",
   "execution_count": 4,
   "id": "0fa28143",
   "metadata": {},
   "outputs": [
    {
     "data": {
      "text/html": [
       "<div>\n",
       "<style scoped>\n",
       "    .dataframe tbody tr th:only-of-type {\n",
       "        vertical-align: middle;\n",
       "    }\n",
       "\n",
       "    .dataframe tbody tr th {\n",
       "        vertical-align: top;\n",
       "    }\n",
       "\n",
       "    .dataframe thead th {\n",
       "        text-align: right;\n",
       "    }\n",
       "</style>\n",
       "<table border=\"1\" class=\"dataframe\">\n",
       "  <thead>\n",
       "    <tr style=\"text-align: right;\">\n",
       "      <th></th>\n",
       "      <th>id</th>\n",
       "      <th>employment_length</th>\n",
       "      <th>employer_title</th>\n",
       "      <th>home_ownership</th>\n",
       "      <th>annual_income</th>\n",
       "    </tr>\n",
       "  </thead>\n",
       "  <tbody>\n",
       "    <tr>\n",
       "      <th>0</th>\n",
       "      <td>1077501</td>\n",
       "      <td>10.0</td>\n",
       "      <td>NaN</td>\n",
       "      <td>rent</td>\n",
       "      <td>24000.0</td>\n",
       "    </tr>\n",
       "    <tr>\n",
       "      <th>1</th>\n",
       "      <td>1077430</td>\n",
       "      <td>1.0</td>\n",
       "      <td>ryder</td>\n",
       "      <td>rent</td>\n",
       "      <td>30000.0</td>\n",
       "    </tr>\n",
       "  </tbody>\n",
       "</table>\n",
       "</div>"
      ],
      "text/plain": [
       "        id  employment_length employer_title home_ownership  annual_income\n",
       "0  1077501               10.0            NaN           rent        24000.0\n",
       "1  1077430                1.0          ryder           rent        30000.0"
      ]
     },
     "execution_count": 4,
     "metadata": {},
     "output_type": "execute_result"
    }
   ],
   "source": [
    "loan2.head(2)"
   ]
  },
  {
   "cell_type": "code",
   "execution_count": 5,
   "id": "15479aa8",
   "metadata": {},
   "outputs": [],
   "source": [
    "loans = pd.merge(loan1, loan2, how='inner', on=['id'])"
   ]
  },
  {
   "cell_type": "markdown",
   "id": "ec56eafc",
   "metadata": {},
   "source": [
    "Toca evaluar qué tan distribuido esta nuestro **target**($ \\hat{y} $) para ver el balance de nuestro dataset."
   ]
  },
  {
   "cell_type": "code",
   "execution_count": 6,
   "id": "80ea5065",
   "metadata": {},
   "outputs": [
    {
     "name": "stdout",
     "output_type": "stream",
     "text": [
      "fully paid 83.0%\n",
      "charged off 14.0%\n",
      "current 3.0%\n"
     ]
    }
   ],
   "source": [
    "for i in range(0,3):\n",
    "    print(f'{loans.loan_status.value_counts().index[i]} {round(loans.loan_status.value_counts().values[i]/loans.loan_status.value_counts().values.sum()*100,0)}%')"
   ]
  },
  {
   "cell_type": "markdown",
   "id": "f425e48b",
   "metadata": {},
   "source": [
    "Observamos que nuestro dataset esta desbalanceado claramente, pues más del 80% de nuestro target se encuentra en una sola opción, por lo que nuestro modelo se sesgaría al dejar la data de dicha manera."
   ]
  },
  {
   "cell_type": "code",
   "execution_count": 7,
   "id": "823eba49",
   "metadata": {},
   "outputs": [
    {
     "data": {
      "image/png": "[encoded data removed]",
      "text/plain": [
       "<Figure size 432x288 with 1 Axes>"
      ]
     },
     "metadata": {
      "needs_background": "light"
     },
     "output_type": "display_data"
    }
   ],
   "source": [
    "loans.loan_status.value_counts().plot.bar()\n",
    "plt.show()"
   ]
  },
  {
   "cell_type": "markdown",
   "id": "01722ed6",
   "metadata": {},
   "source": [
    "Vamos a comenzar observando los valores faltantes en nuestro dataset.\\\n",
    "Observamos que hay un faltante de:\n",
    "1. Employer_title - 7%\n",
    "2. Employment_length - 3%"
   ]
  },
  {
   "cell_type": "code",
   "execution_count": 8,
   "id": "3b56a02e",
   "metadata": {},
   "outputs": [
    {
     "data": {
      "text/plain": [
       "id                                 0.00\n",
       "loan_status                        0.00\n",
       "loan_amount                        0.00\n",
       "funded_amount_by_investors         0.00\n",
       "loan_term                          0.00\n",
       "interest_rate                      0.00\n",
       "installment                        0.00\n",
       "grade                              0.00\n",
       "sub_grade                          0.00\n",
       "verification_status                0.00\n",
       "issued_on                          0.00\n",
       "purpose                            0.00\n",
       "dti                                0.00\n",
       "earliest_credit_line               0.00\n",
       "inquiries_last_6_months            0.00\n",
       "open_credit_lines                  0.00\n",
       "derogatory_public_records          0.00\n",
       "revolving_line_utilization_rate    0.00\n",
       "total_credit_lines                 0.00\n",
       "employment_length                  0.03\n",
       "employer_title                     0.07\n",
       "home_ownership                     0.00\n",
       "annual_income                      0.00\n",
       "dtype: float64"
      ]
     },
     "execution_count": 8,
     "metadata": {},
     "output_type": "execute_result"
    }
   ],
   "source": [
    "round(loans.isna().sum()/loans.count(),2)"
   ]
  },
  {
   "cell_type": "markdown",
   "id": "08d8c2f7",
   "metadata": {},
   "source": [
    "Procederemos a remover las variables que no aportantan tanto al modelo, tales como **employer_title** y **sub_grade**.\\\n",
    "Posterior a ellos, rellenaremos los datos faltantes con la moda de los datos."
   ]
  },
  {
   "cell_type": "code",
   "execution_count": 9,
   "id": "6e4855f3",
   "metadata": {},
   "outputs": [],
   "source": [
    "data = loans.drop(['employer_title', 'sub_grade'], axis=1)\n",
    "data.employment_length = data.employment_length.fillna(data.employment_length.mode()[0])\n",
    "data.revolving_line_utilization_rate = data.revolving_line_utilization_rate.fillna(data.revolving_line_utilization_rate.mode()[0])"
   ]
  },
  {
   "cell_type": "markdown",
   "id": "f2aef042",
   "metadata": {},
   "source": [
    "Comprobaremos que ya no exista ningún valor faltante en nuestro dataset."
   ]
  },
  {
   "cell_type": "code",
   "execution_count": 10,
   "id": "1f9839e6",
   "metadata": {},
   "outputs": [
    {
     "data": {
      "text/plain": [
       "0"
      ]
     },
     "execution_count": 10,
     "metadata": {},
     "output_type": "execute_result"
    }
   ],
   "source": [
    "data.isna().sum().sum()"
   ]
  },
  {
   "cell_type": "markdown",
   "id": "d0a118db",
   "metadata": {},
   "source": [
    "# Modelo"
   ]
  },
  {
   "cell_type": "markdown",
   "id": "25690452",
   "metadata": {},
   "source": [
    "Para abordar este problema de clasificación, podríamos emplear:\n",
    "* Logistic Regression\n",
    "* Random Forest\n",
    "* Support Vector Machine\n",
    "\n",
    "Debido a que son tres variables y tenemos una cantidad de datos menor a un millón, optaremos por un **Support Vector Machine**."
   ]
  },
  {
   "cell_type": "markdown",
   "id": "f85f1d78",
   "metadata": {},
   "source": [
    "Procedemos a crear nuestras variables $x$, $y$, así como nuestros training y testing sets, con un size de entrenamiento del 80%."
   ]
  },
  {
   "cell_type": "code",
   "execution_count": 11,
   "id": "af39a795",
   "metadata": {},
   "outputs": [],
   "source": [
    "X = data.iloc[:,2:]\n",
    "y = data.loan_status\n",
    "X_train, X_test, y_train, y_test = model_selection.train_test_split(X, y, train_size=0.80, test_size=0.20, random_state=101)"
   ]
  },
  {
   "cell_type": "markdown",
   "id": "e86e03bf",
   "metadata": {},
   "source": [
    "Recordemos que nuestro dataset esta desbalanceado."
   ]
  },
  {
   "cell_type": "code",
   "execution_count": 12,
   "id": "18e10bb3",
   "metadata": {},
   "outputs": [
    {
     "name": "stdout",
     "output_type": "stream",
     "text": [
      "Training target statistics: Counter({'fully paid': 26337, 'charged off': 4542, 'current': 894})\n",
      "Testing target statistics: Counter({'fully paid': 6613, 'charged off': 1085, 'current': 246})\n"
     ]
    }
   ],
   "source": [
    "print(f\"Training target statistics: {Counter(y_train)}\")\n",
    "print(f\"Testing target statistics: {Counter(y_test)}\")"
   ]
  },
  {
   "cell_type": "markdown",
   "id": "0b3755a1",
   "metadata": {},
   "source": [
    "Por lo que aplicaremos la función SMOTENC para oversamplear nuestro data categorica.\n",
    "De tal manera que quedará equilibrado."
   ]
  },
  {
   "cell_type": "code",
   "execution_count": 13,
   "id": "c20ff230",
   "metadata": {},
   "outputs": [],
   "source": [
    "cat_cols = [True if X[col].dtype == 'object' else False for col in X.columns]"
   ]
  },
  {
   "cell_type": "code",
   "execution_count": 14,
   "id": "0955e336",
   "metadata": {},
   "outputs": [
    {
     "name": "stdout",
     "output_type": "stream",
     "text": [
      "Training target statistics: Counter({'fully paid': 26337, 'charged off': 26337, 'current': 26337})\n",
      "Testing target statistics: Counter({'fully paid': 6613, 'charged off': 1085, 'current': 246})\n"
     ]
    }
   ],
   "source": [
    "sm = SMOTENC(categorical_features=cat_cols)\n",
    "X_train_re, y_train_re = sm.fit_resample(X_train, y_train)\n",
    "print(f\"Training target statistics: {Counter(y_train_re)}\")\n",
    "print(f\"Testing target statistics: {Counter(y_test)}\")"
   ]
  },
  {
   "cell_type": "markdown",
   "id": "444fd1cc",
   "metadata": {},
   "source": [
    "Para podemos transformar nuestras variables categóricas en numéricas emplearemos el one hot encoder, donde expandiremos las variables deseadas en columnas en caso de que no tengan una jerarquización.\n",
    "\n",
    "Para las variables que sí necesitan ser jerarquizadas, no expandiremos nada sino que asignaremos números dependiendo el peso que tengan."
   ]
  },
  {
   "cell_type": "code",
   "execution_count": 15,
   "id": "36ff41ef",
   "metadata": {},
   "outputs": [],
   "source": [
    "from sklearn.preprocessing import OneHotEncoder\n",
    "from sklearn.compose import make_column_transformer\n",
    "import pylab as pl\n",
    "from sklearn.preprocessing import StandardScaler as Scaler\n",
    "from sklearn.model_selection import StratifiedKFold\n",
    "from sklearn.model_selection import GridSearchCV"
   ]
  },
  {
   "cell_type": "code",
   "execution_count": 16,
   "id": "63fb96a0",
   "metadata": {},
   "outputs": [],
   "source": [
    "def feature_scaling(df, columns):\n",
    "    transformer = make_column_transformer(\n",
    "        (OneHotEncoder(), columns),\n",
    "        remainder='passthrough')\n",
    "\n",
    "    transformed = transformer.fit_transform(df)\n",
    "    transformed_df = pd.DataFrame(transformed, columns=transformer.get_feature_names())\n",
    "    \n",
    "    scale_mapper = {\"a\":7, \"b\":6, \"c\":5,\"d\":4, \"e\":3, \"f\":2, \"g\":1}\n",
    "    transformed_df.grade = transformed_df.grade.replace(scale_mapper)\n",
    "    \n",
    "    transformed_df.issued_on = transformed_df.issued_on.replace({'-':''}, regex=True)\n",
    "    transformed_df.earliest_credit_line = transformed_df.earliest_credit_line.replace({'-':''}, regex=True)\n",
    "    \n",
    "    return transformed_df"
   ]
  },
  {
   "cell_type": "code",
   "execution_count": 17,
   "id": "578eb37a",
   "metadata": {},
   "outputs": [
    {
     "name": "stderr",
     "output_type": "stream",
     "text": [
      "C:\\Users\\g0a04ef\\Anaconda3\\lib\\site-packages\\sklearn\\utils\\deprecation.py:87: FutureWarning: Function get_feature_names is deprecated; get_feature_names is deprecated in 1.0 and will be removed in 1.2. Please use get_feature_names_out instead.\n",
      "  warnings.warn(msg, category=FutureWarning)\n"
     ]
    }
   ],
   "source": [
    "transformed_df = feature_scaling(X_train_re, ['verification_status', 'purpose','home_ownership'])"
   ]
  },
  {
   "cell_type": "code",
   "execution_count": 18,
   "id": "b5f36fa2",
   "metadata": {},
   "outputs": [
    {
     "name": "stderr",
     "output_type": "stream",
     "text": [
      "C:\\Users\\g0a04ef\\Anaconda3\\lib\\site-packages\\sklearn\\utils\\deprecation.py:87: FutureWarning: Function get_feature_names is deprecated; get_feature_names is deprecated in 1.0 and will be removed in 1.2. Please use get_feature_names_out instead.\n",
      "  warnings.warn(msg, category=FutureWarning)\n"
     ]
    }
   ],
   "source": [
    "test_df = feature_scaling(X_test, ['verification_status', 'purpose','home_ownership'])\n",
    "test_df['onehotencoder__x2_none'] = 0"
   ]
  },
  {
   "cell_type": "code",
   "execution_count": 20,
   "id": "f649d0bb",
   "metadata": {},
   "outputs": [],
   "source": [
    "#grade.no expandir\n",
    "#verification expandir\n",
    "#purpose expandir\n",
    "#home owner expandir"
   ]
  },
  {
   "cell_type": "markdown",
   "id": "1812d174",
   "metadata": {},
   "source": [
    "# Support Vector Machine"
   ]
  },
  {
   "cell_type": "markdown",
   "id": "4303e0a5",
   "metadata": {},
   "source": [
    "Crearemos dos modelos para las support vector machine:\n",
    "1. Radial Basis Function kernel\n",
    "2. Polynomial Kernel\n",
    "\n",
    "Para cada una de estas tendremos diferentes parámetros:\n",
    "1. $\\gamma, c$\n",
    "2. $Degree, c$"
   ]
  },
  {
   "cell_type": "code",
   "execution_count": 142,
   "id": "295c314e",
   "metadata": {},
   "outputs": [],
   "source": [
    "rbf = svm.SVC(kernel='rbf', gamma=0.5, C=0.1).fit(transformed_df, y_train_re)\n",
    "#poly = svm.SVC(kernel='poly', degree=3, C=1).fit(transformed_df, y_train_re)"
   ]
  },
  {
   "cell_type": "markdown",
   "id": "3a2591e8",
   "metadata": {},
   "source": [
    "Una vez creados, procederemos a realizar las predicciones sobre nuestro data set de validación."
   ]
  },
  {
   "cell_type": "code",
   "execution_count": 170,
   "id": "78fe50fe",
   "metadata": {},
   "outputs": [
    {
     "name": "stderr",
     "output_type": "stream",
     "text": [
      "C:\\Users\\g0a04ef\\Anaconda3\\lib\\site-packages\\sklearn\\base.py:493: FutureWarning: The feature names should match those that were passed during fit. Starting version 1.2, an error will be raised.\n",
      "Feature names must be in the same order as they were in fit.\n",
      "\n",
      "  warnings.warn(message, FutureWarning)\n",
      "C:\\Users\\g0a04ef\\Anaconda3\\lib\\site-packages\\sklearn\\base.py:493: FutureWarning: The feature names should match those that were passed during fit. Starting version 1.2, an error will be raised.\n",
      "Feature names must be in the same order as they were in fit.\n",
      "\n",
      "  warnings.warn(message, FutureWarning)\n"
     ]
    }
   ],
   "source": [
    "#poly_pred = poly.predict(test_df)\n",
    "rbf_pred = rbf.predict(test_df)"
   ]
  },
  {
   "cell_type": "markdown",
   "id": "e93fb7a3",
   "metadata": {},
   "source": [
    "Es momento de ver el Accuracy de nuestro modelos:"
   ]
  },
  {
   "cell_type": "code",
   "execution_count": 171,
   "id": "73cfdda4",
   "metadata": {},
   "outputs": [
    {
     "name": "stdout",
     "output_type": "stream",
     "text": [
      "Accuracy (Polynomial Kernel):  3.10\n",
      "F1 (Polynomial Kernel):  0.19\n"
     ]
    }
   ],
   "source": [
    "poly_accuracy = accuracy_score(y_test, poly_pred)\n",
    "poly_f1 = f1_score(y_test, poly_pred, average='weighted')\n",
    "print('Accuracy (Polynomial Kernel): ', \"%.2f\" % (poly_accuracy*100))\n",
    "print('F1 (Polynomial Kernel): ', \"%.2f\" % (poly_f1*100))"
   ]
  },
  {
   "cell_type": "code",
   "execution_count": 172,
   "id": "af2301a9",
   "metadata": {},
   "outputs": [
    {
     "name": "stdout",
     "output_type": "stream",
     "text": [
      "Accuracy (RBF Kernel):  83.25\n",
      "F1 (RBF Kernel):  75.63\n"
     ]
    }
   ],
   "source": [
    "rbf_accuracy = accuracy_score(y_test, rbf_pred)\n",
    "rbf_f1 = f1_score(y_test, rbf_pred, average='weighted')\n",
    "print('Accuracy (RBF Kernel): ', \"%.2f\" % (rbf_accuracy*100))\n",
    "print('F1 (RBF Kernel): ', \"%.2f\" % (rbf_f1*100))"
   ]
  },
  {
   "cell_type": "markdown",
   "id": "fb14dcb1",
   "metadata": {},
   "source": [
    "En aras de optimizar nuestros parámetros, aplicaremos una técnica de hyperparameter en búsqueda de una $\\gamma$ y $c$ óptimas ya que nuestra support vector machine **RBF** fue la que mejor se acopló a los datos."
   ]
  },
  {
   "cell_type": "code",
   "execution_count": null,
   "id": "9ef18e84",
   "metadata": {},
   "outputs": [
    {
     "name": "stdout",
     "output_type": "stream",
     "text": [
      "Fitting 5 folds for each of 32 candidates, totalling 160 fits\n",
      "[CV] END .........................C=0.1, gamma=1, kernel=rbf; total time= 7.2min\n",
      "[CV] END .........................C=0.1, gamma=1, kernel=rbf; total time= 8.5min\n",
      "[CV] END .........................C=0.1, gamma=1, kernel=rbf; total time= 7.8min\n",
      "[CV] END .........................C=0.1, gamma=1, kernel=rbf; total time= 8.2min\n",
      "[CV] END .........................C=0.1, gamma=1, kernel=rbf; total time= 7.9min\n",
      "[CV] END ........................C=0.1, gamma=1, kernel=poly; total time=   0.2s\n",
      "[CV] END ........................C=0.1, gamma=1, kernel=poly; total time=   0.2s\n",
      "[CV] END ........................C=0.1, gamma=1, kernel=poly; total time=   0.2s\n",
      "[CV] END ........................C=0.1, gamma=1, kernel=poly; total time=   0.2s\n",
      "[CV] END ........................C=0.1, gamma=1, kernel=poly; total time=   0.2s\n",
      "[CV] END .......................C=0.1, gamma=0.1, kernel=rbf; total time= 8.2min\n",
      "[CV] END .......................C=0.1, gamma=0.1, kernel=rbf; total time= 7.7min\n",
      "[CV] END .......................C=0.1, gamma=0.1, kernel=rbf; total time= 7.7min\n",
      "[CV] END .......................C=0.1, gamma=0.1, kernel=rbf; total time= 7.8min\n",
      "[CV] END .......................C=0.1, gamma=0.1, kernel=rbf; total time= 8.0min\n",
      "[CV] END ......................C=0.1, gamma=0.1, kernel=poly; total time=   0.2s\n",
      "[CV] END ......................C=0.1, gamma=0.1, kernel=poly; total time=   0.2s\n",
      "[CV] END ......................C=0.1, gamma=0.1, kernel=poly; total time=   0.2s\n",
      "[CV] END ......................C=0.1, gamma=0.1, kernel=poly; total time=   0.2s\n",
      "[CV] END ......................C=0.1, gamma=0.1, kernel=poly; total time=   0.2s\n",
      "[CV] END ......................C=0.1, gamma=0.01, kernel=rbf; total time= 7.5min\n",
      "[CV] END ......................C=0.1, gamma=0.01, kernel=rbf; total time= 7.6min\n",
      "[CV] END ......................C=0.1, gamma=0.01, kernel=rbf; total time= 9.6min\n",
      "[CV] END ......................C=0.1, gamma=0.01, kernel=rbf; total time=10.3min\n",
      "[CV] END ......................C=0.1, gamma=0.01, kernel=rbf; total time=10.4min\n",
      "[CV] END .....................C=0.1, gamma=0.01, kernel=poly; total time=   0.2s\n",
      "[CV] END .....................C=0.1, gamma=0.01, kernel=poly; total time=   0.2s\n",
      "[CV] END .....................C=0.1, gamma=0.01, kernel=poly; total time=   0.3s\n",
      "[CV] END .....................C=0.1, gamma=0.01, kernel=poly; total time=   0.3s\n",
      "[CV] END .....................C=0.1, gamma=0.01, kernel=poly; total time=   0.3s\n",
      "[CV] END .....................C=0.1, gamma=0.001, kernel=rbf; total time=11.6min\n",
      "[CV] END .....................C=0.1, gamma=0.001, kernel=rbf; total time=11.8min\n",
      "[CV] END .....................C=0.1, gamma=0.001, kernel=rbf; total time=12.4min\n",
      "[CV] END .....................C=0.1, gamma=0.001, kernel=rbf; total time=12.3min\n",
      "[CV] END .....................C=0.1, gamma=0.001, kernel=rbf; total time=13.2min\n"
     ]
    }
   ],
   "source": [
    "from sklearn.svm import SVC  \n",
    "from sklearn.metrics import classification_report, confusion_matrix \n",
    "C_range = 10. ** np.arange(-3, 8)\n",
    "gamma_range = 10. ** np.arange(-5, 4)\n",
    "param_grid = {'C': [0.1,1, 10, 100], 'gamma': [1,0.1,0.01,0.001],'kernel': ['rbf', 'poly']}\n",
    "grid = GridSearchCV(SVC(),param_grid,refit=True,verbose=2)\n",
    "grid.fit(transformed_df, y_train_re)\n",
    "print(grid.best_estimator_)\n",
    "grid_predictions = grid.predict(test_df)\n",
    "print(confusion_matrix(y_test,grid_predictions))\n",
    "print(classification_report(y_test,grid_predictions))"
   ]
  },
  {
   "cell_type": "code",
   "execution_count": null,
   "id": "cd57391a",
   "metadata": {},
   "outputs": [],
   "source": [
    "\"\"\"[CV] END .........................C=0.1, gamma=1, kernel=rbf; total time= 7.9min\n",
    "[CV] END .......................C=0.1, gamma=0.1, kernel=rbf; total time= 8.0min\n",
    "[CV] END ......................C=0.1, gamma=0.01, kernel=rbf; total time=10.4min\n",
    "[CV] END .....................C=0.1, gamma=0.001, kernel=rbf; total time=13.2min\"\"\""
   ]
  },
  {
   "cell_type": "code",
   "execution_count": null,
   "id": "999b84c8",
   "metadata": {},
   "outputs": [],
   "source": []
  }
 ],
 "metadata": {
  "kernelspec": {
   "display_name": "Python 3 (ipykernel)",
   "language": "python",
   "name": "python3"
  },
  "language_info": {
   "codemirror_mode": {
    "name": "ipython",
    "version": 3
   },
   "file_extension": ".py",
   "mimetype": "text/x-python",
   "name": "python",
   "nbconvert_exporter": "python",
   "pygments_lexer": "ipython3",
   "version": "3.9.7"
  }
 },
 "nbformat": 4,
 "nbformat_minor": 5
}
